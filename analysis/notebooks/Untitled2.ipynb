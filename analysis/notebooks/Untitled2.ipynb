{
 "cells": [
  {
   "cell_type": "code",
   "execution_count": 20,
   "id": "6e6679c2-3240-47fd-afe5-3ed8e27e7f9a",
   "metadata": {},
   "outputs": [],
   "source": [
    "from sklearn.feature_extraction.text import TfidfVectorizer\n",
    "from collections import Counter\n",
    "from itertools import chain\n",
    "import string"
   ]
  },
  {
   "cell_type": "code",
   "execution_count": 3,
   "id": "88404a7d-89bb-474e-a782-3616076a067e",
   "metadata": {},
   "outputs": [],
   "source": [
    "corpus: list[str] = [\n",
    "    'This is the first document.',\n",
    "    'This is the second document.',\n",
    "    'And this is the third one.',\n",
    "    'Is this the first document?'\n",
    "]"
   ]
  },
  {
   "cell_type": "code",
   "execution_count": 24,
   "id": "10ec9be1-faf4-4f28-966f-26028d6f31c4",
   "metadata": {},
   "outputs": [],
   "source": [
    "vectorizer: TfidfVectorizer = TfidfVectorizer(stop_words=None)"
   ]
  },
  {
   "cell_type": "code",
   "execution_count": 25,
   "id": "da0b11c9-5274-4dc1-88f4-9036c32896db",
   "metadata": {},
   "outputs": [],
   "source": [
    "transformed_corpus = vectorizer.fit_transform(corpus)"
   ]
  },
  {
   "cell_type": "code",
   "execution_count": 26,
   "id": "069c375d-3fbd-422a-99bf-19327f016032",
   "metadata": {},
   "outputs": [
    {
     "data": {
      "text/plain": [
       "<4x9 sparse matrix of type '<class 'numpy.float64'>'\n",
       "\twith 21 stored elements in Compressed Sparse Row format>"
      ]
     },
     "execution_count": 26,
     "metadata": {},
     "output_type": "execute_result"
    }
   ],
   "source": [
    "transformed_corpus"
   ]
  },
  {
   "cell_type": "code",
   "execution_count": 30,
   "id": "461bd71e-039f-4406-80ef-03eec1d72089",
   "metadata": {},
   "outputs": [
    {
     "data": {
      "text/plain": [
       "['and', 'document', 'first', 'is', 'one', 'second', 'the', 'third', 'this']"
      ]
     },
     "execution_count": 30,
     "metadata": {},
     "output_type": "execute_result"
    }
   ],
   "source": [
    "words_list: list[list[str]] = [sentence.split() for sentence in corpus]\n",
    "words_list: list[str]= list(chain.from_iterable(words_list))\n",
    "words_list: list[str] = list(set([word.translate(str.maketrans('', '', string.punctuation)).lower() for word in words_list]))\n",
    "words_list.sort()\n",
    "words_list"
   ]
  },
  {
   "cell_type": "code",
   "execution_count": 29,
   "id": "e9602301-51e3-4a8b-b956-b71bed7f6308",
   "metadata": {},
   "outputs": [
    {
     "data": {
      "text/plain": [
       "9"
      ]
     },
     "execution_count": 29,
     "metadata": {},
     "output_type": "execute_result"
    }
   ],
   "source": [
    "len(words_list)"
   ]
  },
  {
   "cell_type": "code",
   "execution_count": 36,
   "id": "ee7f8fce-d986-4798-8762-f7c51068ca31",
   "metadata": {},
   "outputs": [
    {
     "data": {
      "text/plain": [
       "['document', 'first', 'is', 'the', 'this']"
      ]
     },
     "execution_count": 36,
     "metadata": {},
     "output_type": "execute_result"
    }
   ],
   "source": [
    "first_str: str = 'This is the first document.'\n",
    "first_str: list[str] = list(map(str.lower, first_str.split()))\n",
    "first_str: list[str] = [word.translate(str.maketrans('', '', string.punctuation)) for word in first_str]\n",
    "first_str.sort()\n",
    "first_str"
   ]
  },
  {
   "cell_type": "code",
   "execution_count": 41,
   "id": "17005dfb-9134-4573-aa1a-d3eded0ac3eb",
   "metadata": {},
   "outputs": [
    {
     "data": {
      "text/plain": [
       "['', 'document', 'first', 'is', '', '', 'the', '', 'this']"
      ]
     },
     "execution_count": 41,
     "metadata": {},
     "output_type": "execute_result"
    }
   ],
   "source": [
    "j: int = 0\n",
    "result: list[str] = ['']*len(words_list)\n",
    "for index, word in enumerate(words_list):\n",
    "    if word == first_str[j]:\n",
    "        result[index] = word\n",
    "        j += 1\n",
    "result"
   ]
  },
  {
   "cell_type": "code",
   "execution_count": 43,
   "id": "713482be-eee2-44b0-ab21-7e0e4a8488b1",
   "metadata": {},
   "outputs": [
    {
     "data": {
      "text/plain": [
       "[False, True, True, True, False, False, True, False, True]"
      ]
     },
     "execution_count": 43,
     "metadata": {},
     "output_type": "execute_result"
    }
   ],
   "source": [
    "list(map(lambda word: not(not word), result))"
   ]
  },
  {
   "cell_type": "code",
   "execution_count": 38,
   "id": "6a8c8c77-c80c-4075-bc8a-cf8af8728fb8",
   "metadata": {},
   "outputs": [
    {
     "data": {
      "text/plain": [
       "array(['and', 'document', 'first', 'is', 'one', 'second', 'the', 'third',\n",
       "       'this'], dtype=object)"
      ]
     },
     "execution_count": 38,
     "metadata": {},
     "output_type": "execute_result"
    }
   ],
   "source": [
    "vectorizer.get_feature_names_out()"
   ]
  },
  {
   "cell_type": "code",
   "execution_count": 48,
   "id": "9b5fbaba-1dd8-4759-b280-6cf8b1752ee0",
   "metadata": {},
   "outputs": [
    {
     "data": {
      "text/plain": [
       "[[0.0,\n",
       "  0.46979138557992045,\n",
       "  0.5802858236844359,\n",
       "  0.38408524091481483,\n",
       "  0.0,\n",
       "  0.0,\n",
       "  0.38408524091481483,\n",
       "  0.0,\n",
       "  0.38408524091481483],\n",
       " [0.0,\n",
       "  0.4279695901493821,\n",
       "  0.0,\n",
       "  0.34989318276628206,\n",
       "  0.0,\n",
       "  0.6704970632809761,\n",
       "  0.34989318276628206,\n",
       "  0.0,\n",
       "  0.34989318276628206],\n",
       " [0.511848512707169,\n",
       "  0.0,\n",
       "  0.0,\n",
       "  0.267103787642168,\n",
       "  0.511848512707169,\n",
       "  0.0,\n",
       "  0.267103787642168,\n",
       "  0.511848512707169,\n",
       "  0.267103787642168],\n",
       " [0.0,\n",
       "  0.46979138557992045,\n",
       "  0.5802858236844359,\n",
       "  0.38408524091481483,\n",
       "  0.0,\n",
       "  0.0,\n",
       "  0.38408524091481483,\n",
       "  0.0,\n",
       "  0.38408524091481483]]"
      ]
     },
     "execution_count": 48,
     "metadata": {},
     "output_type": "execute_result"
    }
   ],
   "source": [
    "transformed_corpus.toarray().tolist()"
   ]
  },
  {
   "cell_type": "code",
   "execution_count": null,
   "id": "c3cde649-a5b0-403b-aae5-90e24435b576",
   "metadata": {},
   "outputs": [],
   "source": []
  }
 ],
 "metadata": {
  "kernelspec": {
   "display_name": "Python 3 (ipykernel)",
   "language": "python",
   "name": "python3"
  },
  "language_info": {
   "codemirror_mode": {
    "name": "ipython",
    "version": 3
   },
   "file_extension": ".py",
   "mimetype": "text/x-python",
   "name": "python",
   "nbconvert_exporter": "python",
   "pygments_lexer": "ipython3",
   "version": "3.10.12"
  }
 },
 "nbformat": 4,
 "nbformat_minor": 5
}
